{
  "nbformat": 4,
  "nbformat_minor": 0,
  "metadata": {
    "colab": {
      "name": "CA_04_Melyssa_Moore.ipynb",
      "provenance": [],
      "collapsed_sections": []
    },
    "kernelspec": {
      "name": "python3",
      "display_name": "Python 3"
    }
  },
  "cells": [
    {
      "cell_type": "code",
      "metadata": {
        "id": "ubuS2MnX5pj1"
      },
      "source": [
        "#import the packages\r\n",
        "import pandas as pd\r\n",
        "import numpy as np\r\n",
        "import matplotlib.pyplot as plt\r\n",
        "from sklearn.tree import DecisionTreeClassifier\r\n",
        "from sklearn.preprocessing import LabelEncoder\r\n",
        "from sklearn.ensemble import RandomForestClassifier, AdaBoostClassifier, GradientBoostingClassifier\r\n",
        "from xgboost import XGBClassifier\r\n",
        "import xgboost as xgb\r\n",
        "from sklearn.metrics import roc_auc_score"
      ],
      "execution_count": 20,
      "outputs": []
    },
    {
      "cell_type": "code",
      "metadata": {
        "id": "_Ti0KjQu69C7"
      },
      "source": [
        "#reading in the dataset \r\n",
        "census = pd.read_csv('census_data.csv')"
      ],
      "execution_count": 6,
      "outputs": []
    },
    {
      "cell_type": "code",
      "metadata": {
        "colab": {
          "base_uri": "https://localhost:8080/",
          "height": 246
        },
        "id": "eCSycK5l7ICP",
        "outputId": "9651135d-6d2f-4bfd-df22-afb06a28ffad"
      },
      "source": [
        "census.head()"
      ],
      "execution_count": 7,
      "outputs": [
        {
          "output_type": "execute_result",
          "data": {
            "text/html": [
              "<div>\n",
              "<style scoped>\n",
              "    .dataframe tbody tr th:only-of-type {\n",
              "        vertical-align: middle;\n",
              "    }\n",
              "\n",
              "    .dataframe tbody tr th {\n",
              "        vertical-align: top;\n",
              "    }\n",
              "\n",
              "    .dataframe thead th {\n",
              "        text-align: right;\n",
              "    }\n",
              "</style>\n",
              "<table border=\"1\" class=\"dataframe\">\n",
              "  <thead>\n",
              "    <tr style=\"text-align: right;\">\n",
              "      <th></th>\n",
              "      <th>hours_per_week_bin</th>\n",
              "      <th>occupation_bin</th>\n",
              "      <th>msr_bin</th>\n",
              "      <th>capital_gl_bin</th>\n",
              "      <th>race_sex_bin</th>\n",
              "      <th>education_num_bin</th>\n",
              "      <th>education_bin</th>\n",
              "      <th>workclass_bin</th>\n",
              "      <th>age_bin</th>\n",
              "      <th>flag</th>\n",
              "      <th>y</th>\n",
              "    </tr>\n",
              "  </thead>\n",
              "  <tbody>\n",
              "    <tr>\n",
              "      <th>0</th>\n",
              "      <td>b. 31-40</td>\n",
              "      <td>b. Mid - Low</td>\n",
              "      <td>b. Mid</td>\n",
              "      <td>c. &gt; 0</td>\n",
              "      <td>c. High</td>\n",
              "      <td>c. 13</td>\n",
              "      <td>c. Bachelors</td>\n",
              "      <td>b. income</td>\n",
              "      <td>d. 36-40 &amp; 56-60</td>\n",
              "      <td>train</td>\n",
              "      <td>0</td>\n",
              "    </tr>\n",
              "    <tr>\n",
              "      <th>1</th>\n",
              "      <td>a. 0-30</td>\n",
              "      <td>e. High</td>\n",
              "      <td>c. High</td>\n",
              "      <td>a. = 0</td>\n",
              "      <td>c. High</td>\n",
              "      <td>c. 13</td>\n",
              "      <td>c. Bachelors</td>\n",
              "      <td>b. income</td>\n",
              "      <td>e. 40-55</td>\n",
              "      <td>train</td>\n",
              "      <td>0</td>\n",
              "    </tr>\n",
              "    <tr>\n",
              "      <th>2</th>\n",
              "      <td>b. 31-40</td>\n",
              "      <td>a. Low</td>\n",
              "      <td>b. Mid</td>\n",
              "      <td>a. = 0</td>\n",
              "      <td>c. High</td>\n",
              "      <td>b. 9-12</td>\n",
              "      <td>b. Mid</td>\n",
              "      <td>b. income</td>\n",
              "      <td>d. 36-40 &amp; 56-60</td>\n",
              "      <td>train</td>\n",
              "      <td>0</td>\n",
              "    </tr>\n",
              "    <tr>\n",
              "      <th>3</th>\n",
              "      <td>b. 31-40</td>\n",
              "      <td>a. Low</td>\n",
              "      <td>c. High</td>\n",
              "      <td>a. = 0</td>\n",
              "      <td>b. Mid</td>\n",
              "      <td>a. 0-8</td>\n",
              "      <td>a. Low</td>\n",
              "      <td>b. income</td>\n",
              "      <td>e. 40-55</td>\n",
              "      <td>train</td>\n",
              "      <td>0</td>\n",
              "    </tr>\n",
              "    <tr>\n",
              "      <th>4</th>\n",
              "      <td>b. 31-40</td>\n",
              "      <td>e. High</td>\n",
              "      <td>c. High</td>\n",
              "      <td>a. = 0</td>\n",
              "      <td>a. Low</td>\n",
              "      <td>c. 13</td>\n",
              "      <td>c. Bachelors</td>\n",
              "      <td>b. income</td>\n",
              "      <td>b. 26-30 &amp; 71-100</td>\n",
              "      <td>train</td>\n",
              "      <td>0</td>\n",
              "    </tr>\n",
              "  </tbody>\n",
              "</table>\n",
              "</div>"
            ],
            "text/plain": [
              "  hours_per_week_bin occupation_bin  msr_bin  ...            age_bin   flag  y\n",
              "0           b. 31-40   b. Mid - Low   b. Mid  ...   d. 36-40 & 56-60  train  0\n",
              "1            a. 0-30        e. High  c. High  ...           e. 40-55  train  0\n",
              "2           b. 31-40         a. Low   b. Mid  ...   d. 36-40 & 56-60  train  0\n",
              "3           b. 31-40         a. Low  c. High  ...           e. 40-55  train  0\n",
              "4           b. 31-40        e. High  c. High  ...  b. 26-30 & 71-100  train  0\n",
              "\n",
              "[5 rows x 11 columns]"
            ]
          },
          "metadata": {
            "tags": []
          },
          "execution_count": 7
        }
      ]
    },
    {
      "cell_type": "code",
      "metadata": {
        "id": "pOSSZfxW8v-b"
      },
      "source": [
        "#encoding the data using Labelencoder so that it understands the numerical data as floats\r\n",
        "le = LabelEncoder()\r\n",
        "census_encoded = census.apply(le.fit_transform)"
      ],
      "execution_count": 8,
      "outputs": []
    },
    {
      "cell_type": "code",
      "metadata": {
        "id": "dE78xfnE8qsG"
      },
      "source": [
        "#splitting the data\r\n",
        "x_train = census_encoded[census.flag == 'train'].drop(['flag', 'y'], axis=1)\r\n",
        "x_test = census_encoded[census.flag == 'test'].drop(['flag', 'y'], axis=1)\r\n",
        "y_train = census_encoded[census.flag == 'train']['y']\r\n",
        "y_test = census_encoded[census.flag == 'test']['y']"
      ],
      "execution_count": 9,
      "outputs": []
    },
    {
      "cell_type": "code",
      "metadata": {
        "id": "abudtuAp8jis"
      },
      "source": [
        "#using the RandomForestClassifier\r\n",
        "clf = RandomForestClassifier(n_estimators= 100, random_state = 0, max_features='auto')\r\n",
        "clf.fit(x_train, y_train)\r\n",
        "#using the model to predict the testing data\r\n",
        "y_pred = clf.predict(x_test)"
      ],
      "execution_count": 10,
      "outputs": []
    },
    {
      "cell_type": "markdown",
      "metadata": {
        "id": "cvTlBsawLtk3"
      },
      "source": [
        "3. Building the Random Forest Model\r\n"
      ]
    },
    {
      "cell_type": "code",
      "metadata": {
        "colab": {
          "base_uri": "https://localhost:8080/",
          "height": 282
        },
        "id": "8_taqfBpvV1Q",
        "outputId": "da0c52b9-c390-41ce-ea41-ee2927cecbff"
      },
      "source": [
        "#creating a for loop for all of the max depth options to compare their accuracy \r\n",
        "\r\n",
        "results = []\r\n",
        "no_estimate = [50, 100, 150, 200, 250, 300, 350, 400, 450, 500]\r\n",
        "for forest in no_estimate:\r\n",
        "    model = RandomForestClassifier(n_estimators=forest, random_state= 101)\r\n",
        "    model.fit(x_train, y_train)\r\n",
        "    y_pred = model.predict(x_test)\r\n",
        "    accuracy = np.mean(y_test == y_pred)\r\n",
        "    results.append(accuracy)\r\n",
        "#plotting the results for the accuracy to compare\r\n",
        "plt.figure(figsize=(8,4))\r\n",
        "pd.Series(results,no_estimate).plot(color=\"darkred\", marker=\"o\")\r\n",
        "\r\n",
        "#finding the area under the curve(AUC)\r\n",
        "area_under_curve = roc_auc_score(y_test, y_pred)\r\n",
        "area_under_curve"
      ],
      "execution_count": 25,
      "outputs": [
        {
          "output_type": "execute_result",
          "data": {
            "text/plain": [
              "0.7465327973794466"
            ]
          },
          "metadata": {
            "tags": []
          },
          "execution_count": 25
        },
        {
          "output_type": "display_data",
          "data": {
            "image/png": "[encoded data removed]",
            "text/plain": [
              "<Figure size 576x288 with 1 Axes>"
            ]
          },
          "metadata": {
            "tags": [],
            "needs_background": "light"
          }
        }
      ]
    },
    {
      "cell_type": "markdown",
      "metadata": {
        "id": "TWy_YL_ML0pv"
      },
      "source": [
        "4. Building AdaBoost, Gradient Boost and XGB Boost Models"
      ]
    },
    {
      "cell_type": "code",
      "metadata": {
        "id": "6OzSTqDC-ZQG"
      },
      "source": [
        "#Building AdaBoost\r\n",
        "#using the AdaBoostClassifier\r\n",
        "clf = AdaBoostClassifier(n_estimators= 100, random_state= 101)\r\n",
        "clf.fit(x_train, y_train)\r\n",
        "#using the model to predict the testing data\r\n",
        "y_pred = clf.predict(x_test)"
      ],
      "execution_count": 12,
      "outputs": []
    },
    {
      "cell_type": "code",
      "metadata": {
        "colab": {
          "base_uri": "https://localhost:8080/",
          "height": 282
        },
        "id": "cB7FmX6-E5eJ",
        "outputId": "fd2a0f7f-5ee1-4e0d-ec25-448e48574ad1"
      },
      "source": [
        "#using a for loop to plot the accuracy \r\n",
        "results = []\r\n",
        "no_estimate = [50, 100, 150, 200, 250, 300, 350, 400, 450, 500]\r\n",
        "for adaboost in no_estimate:\r\n",
        "    model = AdaBoostClassifier(n_estimators=adaboost, random_state= 101)\r\n",
        "    model.fit(x_train, y_train)\r\n",
        "    y_pred = model.predict(x_test)\r\n",
        "    accuracy = np.mean(y_test == y_pred)\r\n",
        "    results.append(accuracy)\r\n",
        "\r\n",
        "#plotting the results for the accuracy to compare\r\n",
        "plt.figure(figsize=(8,4))\r\n",
        "pd.Series(results, no_estimate).plot(color=\"green\", marker=\"o\")\r\n",
        "\r\n",
        "#finding the area under the curve\r\n",
        "area_under_curve = roc_auc_score(y_test, y_pred)\r\n",
        "area_under_curve"
      ],
      "execution_count": 22,
      "outputs": [
        {
          "output_type": "execute_result",
          "data": {
            "text/plain": [
              "0.7460076328264228"
            ]
          },
          "metadata": {
            "tags": []
          },
          "execution_count": 22
        },
        {
          "output_type": "display_data",
          "data": {
            "image/png": "[encoded data removed]",
            "text/plain": [
              "<Figure size 576x288 with 1 Axes>"
            ]
          },
          "metadata": {
            "tags": [],
            "needs_background": "light"
          }
        }
      ]
    },
    {
      "cell_type": "code",
      "metadata": {
        "colab": {
          "base_uri": "https://localhost:8080/"
        },
        "id": "o8o-dVUb_a3j",
        "outputId": "2e31c2d2-22cc-4433-f989-cdff3be2dcee"
      },
      "source": [
        "#Building Gradient Boost(classifier)\r\n",
        "classifier = GradientBoostingClassifier(\r\n",
        "    max_depth = 2,\r\n",
        "    n_estimators = 3,\r\n",
        "    learning_rate = 1.0\r\n",
        ")\r\n",
        "classifier.fit(x_train, y_train)"
      ],
      "execution_count": 14,
      "outputs": [
        {
          "output_type": "execute_result",
          "data": {
            "text/plain": [
              "GradientBoostingClassifier(ccp_alpha=0.0, criterion='friedman_mse', init=None,\n",
              "                           learning_rate=1.0, loss='deviance', max_depth=2,\n",
              "                           max_features=None, max_leaf_nodes=None,\n",
              "                           min_impurity_decrease=0.0, min_impurity_split=None,\n",
              "                           min_samples_leaf=1, min_samples_split=2,\n",
              "                           min_weight_fraction_leaf=0.0, n_estimators=3,\n",
              "                           n_iter_no_change=None, presort='deprecated',\n",
              "                           random_state=None, subsample=1.0, tol=0.0001,\n",
              "                           validation_fraction=0.1, verbose=0,\n",
              "                           warm_start=False)"
            ]
          },
          "metadata": {
            "tags": []
          },
          "execution_count": 14
        }
      ]
    },
    {
      "cell_type": "code",
      "metadata": {
        "colab": {
          "base_uri": "https://localhost:8080/",
          "height": 282
        },
        "id": "Cx4WA_QdHFFg",
        "outputId": "229a196b-2dbd-49f9-e3ad-10050358857e"
      },
      "source": [
        "#using a for loop to plot the accuracy \r\n",
        "results = []\r\n",
        "no_estimate = [50, 100, 150, 200, 250, 300, 350, 400, 450, 500]\r\n",
        "for gradboost in no_estimate:\r\n",
        "    model = GradientBoostingClassifier(n_estimators=gradboost, random_state= 101)\r\n",
        "    model.fit(x_train, y_train)\r\n",
        "    y_pred = model.predict(x_test)\r\n",
        "    accuracy = np.mean(y_test == y_pred)\r\n",
        "    results.append(accuracy)\r\n",
        "\r\n",
        "#plotting the results for the accuracy to compare\r\n",
        "plt.figure(figsize=(8,4))\r\n",
        "pd.Series(results, no_estimate).plot(color=\"blue\", marker=\"o\")\r\n",
        "\r\n",
        "#finding the area under the curve\r\n",
        "area_under_curve = roc_auc_score(y_test, y_pred)\r\n",
        "area_under_curve"
      ],
      "execution_count": 23,
      "outputs": [
        {
          "output_type": "execute_result",
          "data": {
            "text/plain": [
              "0.7609339548491469"
            ]
          },
          "metadata": {
            "tags": []
          },
          "execution_count": 23
        },
        {
          "output_type": "display_data",
          "data": {
            "image/png": "[encoded data removed]",
            "text/plain": [
              "<Figure size 576x288 with 1 Axes>"
            ]
          },
          "metadata": {
            "tags": [],
            "needs_background": "light"
          }
        }
      ]
    },
    {
      "cell_type": "code",
      "metadata": {
        "colab": {
          "base_uri": "https://localhost:8080/"
        },
        "id": "O2blNGut_ezU",
        "outputId": "b6916c85-a7d0-43f1-bda7-cac6412511f6"
      },
      "source": [
        "#Building XGB model\r\n",
        "!pip install xgboost\r\n",
        "\r\n",
        "D_train = xgb.DMatrix(x_train, label=y_train)\r\n",
        "D_test = xgb.DMatrix(x_test, label = y_test)\r\n",
        "\r\n",
        "param = {\r\n",
        "    'eta': 0.3,\r\n",
        "    'max_depth': 3,\r\n",
        "    'objective':'multi:softprob',\r\n",
        "    'num_class': 3}\r\n",
        "n_estimators = 20      #no of training iterations\r\n",
        "\r\n",
        "model = xgb.train(param, D_train, n_estimators)"
      ],
      "execution_count": 16,
      "outputs": [
        {
          "output_type": "stream",
          "text": [
            "Requirement already satisfied: xgboost in /usr/local/lib/python3.7/dist-packages (0.90)\n",
            "Requirement already satisfied: numpy in /usr/local/lib/python3.7/dist-packages (from xgboost) (1.19.5)\n",
            "Requirement already satisfied: scipy in /usr/local/lib/python3.7/dist-packages (from xgboost) (1.4.1)\n"
          ],
          "name": "stdout"
        }
      ]
    },
    {
      "cell_type": "code",
      "metadata": {
        "colab": {
          "base_uri": "https://localhost:8080/",
          "height": 282
        },
        "id": "mpkqrE3RQj8E",
        "outputId": "33be168f-6e2b-43a7-faac-e6554761a375"
      },
      "source": [
        "#using a for loop to plot the accuracy \r\n",
        "results = []\r\n",
        "no_estimate = [50, 100, 150, 200, 250, 300, 350, 400, 450, 500]\r\n",
        "for xgradboost in no_estimate:\r\n",
        "    model = XGBClassifier(n_estimators=xgradboost, random_state=101)\r\n",
        "    model.fit(x_train, y_train)\r\n",
        "    y_pred = model.predict(x_test)\r\n",
        "    accuracy = np.mean(y_test == y_pred)\r\n",
        "    results.append(accuracy)\r\n",
        "\r\n",
        "#plotting the results for the accuracy to compare\r\n",
        "plt.figure(figsize=(8,4))\r\n",
        "pd.Series(results, no_estimate).plot(color=\"m\",marker=\"o\")\r\n",
        "\r\n",
        "#finding the area under the curve\r\n",
        "area_under_curve = roc_auc_score(y_test, y_pred)\r\n",
        "area_under_curve"
      ],
      "execution_count": 24,
      "outputs": [
        {
          "output_type": "execute_result",
          "data": {
            "text/plain": [
              "0.7591849222822954"
            ]
          },
          "metadata": {
            "tags": []
          },
          "execution_count": 24
        },
        {
          "output_type": "display_data",
          "data": {
            "image/png": "[encoded data removed]",
            "text/plain": [
              "<Figure size 576x288 with 1 Axes>"
            ]
          },
          "metadata": {
            "tags": [],
            "needs_background": "light"
          }
        }
      ]
    },
    {
      "cell_type": "markdown",
      "metadata": {
        "id": "QkN_J1G6TFFM"
      },
      "source": [
        "5. Compare Performance"
      ]
    },
    {
      "cell_type": "code",
      "metadata": {
        "colab": {
          "base_uri": "https://localhost:8080/",
          "height": 106
        },
        "id": "F0HXsQd8QdOW",
        "outputId": "60fce43c-2ffb-4ec3-9769-bc973133a3ac"
      },
      "source": [
        "#creating a new dataframe/table to show all the accuracy rates and AUC scores for each model \r\n",
        "perf_compare = pd.DataFrame(np.array([[.8384,.8500,.8472,.8471],[.7465,.7460, .7609,.7591]]), \r\n",
        "                            columns = ['Random Forest','AdaBoost','Gradient Boost','XGBoost'], \r\n",
        "                            index = ['Accuracy','AUC'])\r\n",
        "perf_compare"
      ],
      "execution_count": 32,
      "outputs": [
        {
          "output_type": "execute_result",
          "data": {
            "text/html": [
              "<div>\n",
              "<style scoped>\n",
              "    .dataframe tbody tr th:only-of-type {\n",
              "        vertical-align: middle;\n",
              "    }\n",
              "\n",
              "    .dataframe tbody tr th {\n",
              "        vertical-align: top;\n",
              "    }\n",
              "\n",
              "    .dataframe thead th {\n",
              "        text-align: right;\n",
              "    }\n",
              "</style>\n",
              "<table border=\"1\" class=\"dataframe\">\n",
              "  <thead>\n",
              "    <tr style=\"text-align: right;\">\n",
              "      <th></th>\n",
              "      <th>Random Forest</th>\n",
              "      <th>AdaBoost</th>\n",
              "      <th>Gradient Boost</th>\n",
              "      <th>XGBoost</th>\n",
              "    </tr>\n",
              "  </thead>\n",
              "  <tbody>\n",
              "    <tr>\n",
              "      <th>Accuracy</th>\n",
              "      <td>0.8384</td>\n",
              "      <td>0.850</td>\n",
              "      <td>0.8472</td>\n",
              "      <td>0.8471</td>\n",
              "    </tr>\n",
              "    <tr>\n",
              "      <th>AUC</th>\n",
              "      <td>0.7465</td>\n",
              "      <td>0.746</td>\n",
              "      <td>0.7609</td>\n",
              "      <td>0.7591</td>\n",
              "    </tr>\n",
              "  </tbody>\n",
              "</table>\n",
              "</div>"
            ],
            "text/plain": [
              "          Random Forest  AdaBoost  Gradient Boost  XGBoost\n",
              "Accuracy         0.8384     0.850          0.8472   0.8471\n",
              "AUC              0.7465     0.746          0.7609   0.7591"
            ]
          },
          "metadata": {
            "tags": []
          },
          "execution_count": 32
        }
      ]
    }
  ]
}